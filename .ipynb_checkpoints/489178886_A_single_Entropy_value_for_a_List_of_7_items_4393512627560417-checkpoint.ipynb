{
 "cells": [
  {
   "cell_type": "code",
   "execution_count": 1,
   "id": "0efe0d9f",
   "metadata": {},
   "outputs": [
    {
     "name": "stdout",
     "output_type": "stream",
     "text": [
      "1.945\n"
     ]
    }
   ],
   "source": [
    "from scipy.stats import entropy as en\n",
    "import numpy as np\n",
    "import pandas as pd\n",
    "a = [1001,1011,1110,1001,1111,1111,1110]\n",
    "a = np.array(a)\n",
    "data = np.unique(a, return_counts = True)\n",
    "entropy = en(a)\n",
    "print(f\"{entropy:.3f}\")"
   ]
  },
  {
   "cell_type": "code",
   "execution_count": null,
   "id": "42a3cd93",
   "metadata": {},
   "outputs": [],
   "source": []
  }
 ],
 "metadata": {
  "kernelspec": {
   "display_name": "Python 3 (ipykernel)",
   "language": "python",
   "name": "python3"
  },
  "language_info": {
   "codemirror_mode": {
    "name": "ipython",
    "version": 3
   },
   "file_extension": ".py",
   "mimetype": "text/x-python",
   "name": "python",
   "nbconvert_exporter": "python",
   "pygments_lexer": "ipython3",
   "version": "3.9.12"
  }
 },
 "nbformat": 4,
 "nbformat_minor": 5
}
